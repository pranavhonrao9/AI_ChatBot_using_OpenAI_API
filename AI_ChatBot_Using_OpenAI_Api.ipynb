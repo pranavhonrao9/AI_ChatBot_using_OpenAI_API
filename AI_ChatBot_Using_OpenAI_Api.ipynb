{
 "cells": [
  {
   "cell_type": "code",
   "execution_count": 1,
   "id": "96929d9a",
   "metadata": {},
   "outputs": [
    {
     "name": "stdout",
     "output_type": "stream",
     "text": [
      "Requirement already satisfied: openai in ./opt/anaconda3/lib/python3.9/site-packages (0.27.4)\n",
      "Requirement already satisfied: tqdm in ./opt/anaconda3/lib/python3.9/site-packages (from openai) (4.64.1)\n",
      "Requirement already satisfied: aiohttp in ./opt/anaconda3/lib/python3.9/site-packages (from openai) (3.8.4)\n",
      "Requirement already satisfied: requests>=2.20 in ./opt/anaconda3/lib/python3.9/site-packages (from openai) (2.28.1)\n",
      "Requirement already satisfied: charset-normalizer<3,>=2 in ./opt/anaconda3/lib/python3.9/site-packages (from requests>=2.20->openai) (2.0.4)\n",
      "Requirement already satisfied: urllib3<1.27,>=1.21.1 in ./opt/anaconda3/lib/python3.9/site-packages (from requests>=2.20->openai) (1.26.11)\n",
      "Requirement already satisfied: certifi>=2017.4.17 in ./opt/anaconda3/lib/python3.9/site-packages (from requests>=2.20->openai) (2022.9.24)\n",
      "Requirement already satisfied: idna<4,>=2.5 in ./opt/anaconda3/lib/python3.9/site-packages (from requests>=2.20->openai) (3.3)\n",
      "Requirement already satisfied: yarl<2.0,>=1.0 in ./opt/anaconda3/lib/python3.9/site-packages (from aiohttp->openai) (1.8.2)\n",
      "Requirement already satisfied: async-timeout<5.0,>=4.0.0a3 in ./opt/anaconda3/lib/python3.9/site-packages (from aiohttp->openai) (4.0.2)\n",
      "Requirement already satisfied: multidict<7.0,>=4.5 in ./opt/anaconda3/lib/python3.9/site-packages (from aiohttp->openai) (6.0.4)\n",
      "Requirement already satisfied: frozenlist>=1.1.1 in ./opt/anaconda3/lib/python3.9/site-packages (from aiohttp->openai) (1.3.3)\n",
      "Requirement already satisfied: attrs>=17.3.0 in ./opt/anaconda3/lib/python3.9/site-packages (from aiohttp->openai) (21.4.0)\n",
      "Requirement already satisfied: aiosignal>=1.1.2 in ./opt/anaconda3/lib/python3.9/site-packages (from aiohttp->openai) (1.3.1)\n",
      "Note: you may need to restart the kernel to use updated packages.\n"
     ]
    }
   ],
   "source": [
    "%pip install openai\n"
   ]
  },
  {
   "cell_type": "code",
   "execution_count": 2,
   "id": "54946a78",
   "metadata": {},
   "outputs": [],
   "source": [
    "import openai"
   ]
  },
  {
   "cell_type": "code",
   "execution_count": 15,
   "id": "7505f554",
   "metadata": {},
   "outputs": [],
   "source": [
    "#key for openai api: https://platform.openai.com/account/api-keys \n",
    "openai.api_key=\"\"\n"
   ]
  },
  {
   "cell_type": "code",
   "execution_count": 10,
   "id": "a2be0722",
   "metadata": {},
   "outputs": [],
   "source": [
    "result=openai.Completion.create(engine=\"text-davinci-003\", prompt=\"who are the top 10 cricketers of all time\", max_tokens=1000)"
   ]
  },
  {
   "cell_type": "code",
   "execution_count": 11,
   "id": "0cb46c96",
   "metadata": {},
   "outputs": [
    {
     "name": "stdout",
     "output_type": "stream",
     "text": [
      "\n",
      "\n",
      "1. Sir Don Bradman (Australia)\n",
      "2. Sachin Tendulkar (India)\n",
      "3. Sir Garfield Sobers (West Indies)\n",
      "4. Sir Vivian Richards (West Indies)\n",
      "5. Jacques Kallis (South Africa)\n",
      "6. Kumar Sangakkara (Sri Lanka)\n",
      "7. Imran Khan (Pakistan)\n",
      "8. Shane Warne (Australia)\n",
      "9. Wasim Akram (Pakistan)\n",
      "10. Adam Gilchrist (Australia)\n"
     ]
    }
   ],
   "source": [
    "print(result.choices[0]['text'])"
   ]
  },
  {
   "cell_type": "code",
   "execution_count": 12,
   "id": "e778d95c",
   "metadata": {},
   "outputs": [],
   "source": [
    "result_for_India=openai.Completion.create(engine=\"text-davinci-003\", prompt=\"who are the top 10 cricketers in India\", max_tokens=1000)"
   ]
  },
  {
   "cell_type": "code",
   "execution_count": 13,
   "id": "5435bd37",
   "metadata": {},
   "outputs": [
    {
     "name": "stdout",
     "output_type": "stream",
     "text": [
      "\n",
      "\n",
      "1. Sachin Tendulkar\n",
      "2. Rohit Sharma\n",
      "3. Virat Kohli\n",
      "4. M.S. Dhoni\n",
      "5. Virender Sehwag\n",
      "6. Kapil Dev\n",
      "7. Sunil Gavaskar\n",
      "8. Yuvraj Singh\n",
      "9. Anil Kumble\n",
      "10. Sourav Ganguly\n"
     ]
    }
   ],
   "source": [
    "print(result_for_India.choices[0]['text'])"
   ]
  },
  {
   "cell_type": "code",
   "execution_count": null,
   "id": "5f3ff3d4",
   "metadata": {},
   "outputs": [],
   "source": []
  }
 ],
 "metadata": {
  "kernelspec": {
   "display_name": "Python 3 (ipykernel)",
   "language": "python",
   "name": "python3"
  },
  "language_info": {
   "codemirror_mode": {
    "name": "ipython",
    "version": 3
   },
   "file_extension": ".py",
   "mimetype": "text/x-python",
   "name": "python",
   "nbconvert_exporter": "python",
   "pygments_lexer": "ipython3",
   "version": "3.9.13"
  }
 },
 "nbformat": 4,
 "nbformat_minor": 5
}
